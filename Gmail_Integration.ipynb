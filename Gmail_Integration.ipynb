{
  "nbformat": 4,
  "nbformat_minor": 0,
  "metadata": {
    "colab": {
      "provenance": []
    },
    "kernelspec": {
      "name": "python3",
      "display_name": "Python 3"
    },
    "language_info": {
      "name": "python"
    }
  },
  "cells": [
    {
      "cell_type": "code",
      "execution_count": null,
      "metadata": {
        "id": "fy_HfcKKagVV"
      },
      "outputs": [],
      "source": [
        "import smtplib\n",
        "from email.message import EmailMessage\n",
        "\n",
        "# --- CONFIGURATION ---\n",
        "YOUR_GMAIL = \"@gmail.com\"\n",
        "APP_PASSWORD = \"Gmail App Password\"  # Replace with your Gmail App Password\n",
        "\n",
        "\n",
        "def send_email(to_email, subject, message_body):\n",
        "    msg = EmailMessage()\n",
        "    msg[\"Subject\"] = subject\n",
        "    msg[\"From\"] = YOUR_GMAIL\n",
        "    msg[\"To\"] = to_email\n",
        "    msg.set_content(message_body)\n",
        "\n",
        "    try:\n",
        "        # Connect to Gmail SMTP server\n",
        "        with smtplib.SMTP(\"smtp.gmail.com\", 587) as smtp:\n",
        "            smtp.starttls()\n",
        "            smtp.login(YOUR_GMAIL, APP_PASSWORD)\n",
        "            smtp.send_message(msg)\n",
        "            print(\"✅ Email sent successfully!\")\n",
        "    except Exception as e:\n",
        "        print(\"❌ Failed to send email:\", e)\n",
        "\n",
        "\n",
        "# --- SIMPLE CHATBOT LOOP ---\n",
        "print(\"🤖 Chatbot: Hi! I can send an email for you.\")\n",
        "to = input(\"Who do you want to email? (enter email address): \")\n",
        "subject = input(\"What's the subject?: \")\n",
        "body = input(\"What should I say?: \")\n",
        "\n",
        "send_email(to, subject, body)"
      ]
    }
  ]
}